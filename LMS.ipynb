{
 "cells": [
  {
   "cell_type": "code",
   "execution_count": 2,
   "metadata": {},
   "outputs": [
    {
     "name": "stdout",
     "output_type": "stream",
     "text": [
      "Using matplotlib backend: Qt5Agg\n"
     ]
    }
   ],
   "source": [
    "import numpy as np \n",
    " \n",
    "import soundfile as sn\n",
    " \n",
    "import matplotlib.pyplot as plt\n",
    "%matplotlib\n",
    " \n",
    "mu=0.9\n",
    "order=2\n",
    "\n",
    "[d , fs]= sn.read('yusufses.wav')\n",
    "N=len(d)\n",
    "[d1,fs1] = sn.read('trafik2.wav')\n",
    " \n",
    " \n",
    " \n",
    "primary=d+d1\n",
    " \n",
    "delayed = np.zeros(order);\n",
    "adap = np.zeros(order);\n",
    "cancelled = np.zeros(N)\n",
    " \n",
    "\n",
    "for i in range(N):\n",
    "    \n",
    "    delayed[0]=d1[i,0]\n",
    "    \n",
    "    y=delayed*adap\n",
    "    \n",
    "    cancelled[i]=primary[i,0]-y[0] \n",
    "    adap=adap+2*mu*cancelled[i]*delayed\n",
    "    delayed[1]=delayed[0]\n",
    "   \n",
    "\n",
    "\n",
    " \n",
    " \n",
    " \n",
    "plt.subplot(4,1,1)\n",
    "plt.plot(d, color=\"blue\") \n",
    "plt.title('Orjinal Ses')\n",
    " \n",
    "\n",
    "plt.subplot(4,1,2)\n",
    "plt.plot(d1, color=\"blue\") \n",
    "plt.title('Trafik Gürültüsü')\n",
    " \n",
    "\n",
    "plt.subplot(4,1,3)\n",
    "plt.plot(primary, color=\"blue\")\n",
    "plt.title('Trafik Gürültüsü Eklenmiş Ses')\n",
    " \n",
    "\n",
    "plt.subplot(4,1,4)\n",
    "plt.plot(cancelled, color=\"blue\")\n",
    "plt.title('Trafik Grürültüsü Çıkarılmış Ses')\n",
    "plt.xlabel('Örnek')\n",
    "\n",
    "sn.write(' yusufsesgürültülü2.wav',primary , 44100, 'PCM_24') # ses dosyasını yazma\n",
    "sn.write(' yusufsessoonnuc2.wav',cancelled , 44100, 'PCM_24') # ses dosyasını yazma\n",
    "\n",
    " "
   ]
  },
  {
   "cell_type": "code",
   "execution_count": null,
   "metadata": {},
   "outputs": [],
   "source": []
  },
  {
   "cell_type": "code",
   "execution_count": null,
   "metadata": {},
   "outputs": [],
   "source": []
  }
 ],
 "metadata": {
  "kernelspec": {
   "display_name": "Python 3",
   "language": "python",
   "name": "python3"
  },
  "language_info": {
   "codemirror_mode": {
    "name": "ipython",
    "version": 3
   },
   "file_extension": ".py",
   "mimetype": "text/x-python",
   "name": "python",
   "nbconvert_exporter": "python",
   "pygments_lexer": "ipython3",
   "version": "3.7.4"
  }
 },
 "nbformat": 4,
 "nbformat_minor": 2
}
