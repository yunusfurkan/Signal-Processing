{
 "cells": [
  {
   "cell_type": "code",
   "execution_count": 2,
   "metadata": {
    "scrolled": true
   },
   "outputs": [
    {
     "name": "stdout",
     "output_type": "stream",
     "text": [
      "Using matplotlib backend: Qt5Agg\n"
     ]
    }
   ],
   "source": [
    "import numpy as np \n",
    " \n",
    "import soundfile as sn\n",
    " \n",
    "import matplotlib.pyplot as plt\n",
    "%matplotlib\n",
    "\n",
    "mu=0.5\n",
    "[d , fs]= sn.read('yusufses.wav')\n",
    "[d1,fs1] = sn.read('trafik1.wav')\n",
    "N=len(d)\n",
    "\n",
    "x=d+d1\n",
    "w=np.zeros(N) \n",
    "e=np.zeros(N) \n",
    "yd=np.zeros(N)\n",
    "\n",
    "\n",
    "for i in range(N):\n",
    "    e[i]=d[i,0]-w[i]*d[i,0]\n",
    "    if i!=N-1:\n",
    "        w[i+1]=w[i]+mu*e[i]*d[i,0]\n",
    "\n",
    "for k in range(N):\n",
    "    yd[k]=sum(w[k]*d[k])\n",
    "    \n",
    "plt.subplot(5,1,1)\n",
    "plt.plot(d, color=\"blue\")\n",
    "plt.title('Orjinal Ses')\n",
    " \n",
    "\n",
    "plt.subplot(5,1,2)\n",
    "plt.plot(d1, color=\"blue\") \n",
    "plt.title('Trafik Gürültüsü')\n",
    " \n",
    "\n",
    "plt.subplot(5,1,3)\n",
    "plt.plot(x, color=\"blue\")\n",
    "plt.title('Trafik Gürültüsü Eklenmiş Ses')\n",
    " \n",
    "\n",
    "plt.subplot(5,1,4)\n",
    "plt.plot(e, color=\"blue\")\n",
    "plt.title('Hata')\n",
    " \n",
    "\n",
    "plt.subplot(5,1,5)\n",
    "plt.plot(yd, color=\"blue\")\n",
    "plt.title('Trafik Grürültüsü Çıkarılmış Ses')\n",
    "plt.xlabel('Örnek')\n",
    "\n",
    " \n",
    "    \n",
    "\n",
    "sn.write('yusufsesgürültülü1.wav',x , 44100, 'PCM_24') # ses dosyasını yazma\n",
    "sn.write('yusufsessoonnuc1.wav',yd , 44100, 'PCM_24') # ses dosyasını yazma\n",
    "\n",
    "\n",
    " "
   ]
  },
  {
   "cell_type": "code",
   "execution_count": null,
   "metadata": {},
   "outputs": [],
   "source": [
    "\n",
    " \n"
   ]
  },
  {
   "cell_type": "code",
   "execution_count": null,
   "metadata": {},
   "outputs": [],
   "source": [
    " "
   ]
  },
  {
   "cell_type": "code",
   "execution_count": null,
   "metadata": {},
   "outputs": [],
   "source": []
  },
  {
   "cell_type": "code",
   "execution_count": null,
   "metadata": {},
   "outputs": [],
   "source": []
  },
  {
   "cell_type": "code",
   "execution_count": null,
   "metadata": {},
   "outputs": [],
   "source": []
  },
  {
   "cell_type": "code",
   "execution_count": null,
   "metadata": {},
   "outputs": [],
   "source": []
  },
  {
   "cell_type": "code",
   "execution_count": null,
   "metadata": {},
   "outputs": [],
   "source": []
  }
 ],
 "metadata": {
  "kernelspec": {
   "display_name": "Python 3",
   "language": "python",
   "name": "python3"
  },
  "language_info": {
   "codemirror_mode": {
    "name": "ipython",
    "version": 3
   },
   "file_extension": ".py",
   "mimetype": "text/x-python",
   "name": "python",
   "nbconvert_exporter": "python",
   "pygments_lexer": "ipython3",
   "version": "3.7.4"
  }
 },
 "nbformat": 4,
 "nbformat_minor": 2
}
